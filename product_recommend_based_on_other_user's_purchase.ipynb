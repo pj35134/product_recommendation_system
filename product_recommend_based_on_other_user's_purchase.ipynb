{
  "nbformat": 4,
  "nbformat_minor": 0,
  "metadata": {
    "colab": {
      "name": "product recommend based on other user's purchase.ipynb",
      "provenance": [],
      "collapsed_sections": [],
      "machine_shape": "hm"
    },
    "kernelspec": {
      "name": "python3",
      "display_name": "Python 3"
    },
    "accelerator": "GPU"
  },
  "cells": [
    {
      "cell_type": "code",
      "metadata": {
        "id": "Ha3BPpa9QhhD",
        "colab_type": "code",
        "colab": {}
      },
      "source": [
        "#dummy_array = []\n",
        "#while(1):\n",
        "  # dummy_array.append('I want more Ram! please...')"
      ],
      "execution_count": 0,
      "outputs": []
    },
    {
      "cell_type": "code",
      "metadata": {
        "id": "6DZItgu6SndE",
        "colab_type": "code",
        "colab": {}
      },
      "source": [
        "import pickle\n",
        "import pandas as pd\n",
        "import numpy as np\n",
        "import collections\n",
        "from itertools import groupby\n",
        "from collections import Counter"
      ],
      "execution_count": 0,
      "outputs": []
    },
    {
      "cell_type": "code",
      "metadata": {
        "id": "Y1Kj5i7DSsJ4",
        "colab_type": "code",
        "colab": {}
      },
      "source": [
        "import os\n",
        "os.environ['KAGGLE_USERNAME'] = \"xxxx\" # username from the json file\n",
        "os.environ['KAGGLE_KEY'] = \"xxxxxxxx\" # key from the json file"
      ],
      "execution_count": 0,
      "outputs": []
    },
    {
      "cell_type": "code",
      "metadata": {
        "id": "ZVQxXBYRSvXb",
        "colab_type": "code",
        "outputId": "11de7c53-d3c0-495c-cd05-d1cae8e07864",
        "colab": {
          "base_uri": "https://localhost:8080/",
          "height": 70
        }
      },
      "source": [
        "!kaggle datasets download -d mkechinov/ecommerce-behavior-data-from-multi-category-store"
      ],
      "execution_count": 0,
      "outputs": [
        {
          "output_type": "stream",
          "text": [
            "Downloading ecommerce-behavior-data-from-multi-category-store.zip to /content\n",
            "100% 4.28G/4.29G [01:25<00:00, 116MB/s]\n",
            "100% 4.29G/4.29G [01:25<00:00, 54.1MB/s]\n"
          ],
          "name": "stdout"
        }
      ]
    },
    {
      "cell_type": "code",
      "metadata": {
        "id": "dO0VDsxoS0JX",
        "colab_type": "code",
        "outputId": "a77a6576-b508-40e9-9d34-d6ecb9658eb7",
        "colab": {
          "base_uri": "https://localhost:8080/",
          "height": 64
        }
      },
      "source": [
        "!unzip ecommerce-behavior-data-from-multi-category-store.zip"
      ],
      "execution_count": 0,
      "outputs": [
        {
          "output_type": "stream",
          "text": [
            "Archive:  ecommerce-behavior-data-from-multi-category-store.zip\n",
            "  inflating: 2019-Nov.csv            "
          ],
          "name": "stdout"
        }
      ]
    },
    {
      "cell_type": "code",
      "metadata": {
        "id": "n43iGRPLS3sZ",
        "colab_type": "code",
        "colab": {}
      },
      "source": [
        "df_Oct = pd.read_csv('2019-Oct.csv')"
      ],
      "execution_count": 0,
      "outputs": []
    },
    {
      "cell_type": "code",
      "metadata": {
        "id": "gwhItyZhS4sP",
        "colab_type": "code",
        "colab": {}
      },
      "source": [
        "pickle_out = open(\"2019-Oct.pickle\",\"wb\")\n",
        "pickle.dump(df_Oct, pickle_out)\n",
        "pickle_out.close()"
      ],
      "execution_count": 0,
      "outputs": []
    },
    {
      "cell_type": "code",
      "metadata": {
        "id": "IHc0qG5vS46V",
        "colab_type": "code",
        "colab": {}
      },
      "source": [
        "pickle_in = open(\"2019-Oct.pickle\",\"rb\")\n",
        "df_Oct = pickle.load(pickle_in)"
      ],
      "execution_count": 0,
      "outputs": []
    },
    {
      "cell_type": "code",
      "metadata": {
        "id": "7wTw4E2iN5Cp",
        "colab_type": "code",
        "colab": {}
      },
      "source": [
        "m=df_Oct.head(1000000)"
      ],
      "execution_count": 0,
      "outputs": []
    },
    {
      "cell_type": "code",
      "metadata": {
        "id": "onXYYet9UyVX",
        "colab_type": "code",
        "colab": {}
      },
      "source": [
        "#d = {x:purchased_items.count(x) for x in purchased_items}\n",
        "\n",
        "#results = {value: len(list(freq)) for value, freq in groupby(sorted(purchased_items))}\n",
        "\n",
        "#[dict(Counter(x)) for x in purchased_items]\n",
        "m=m.dropna()"
      ],
      "execution_count": 0,
      "outputs": []
    },
    {
      "cell_type": "code",
      "metadata": {
        "id": "PFH2GYV9YHIC",
        "colab_type": "code",
        "colab": {}
      },
      "source": [
        "customer_purchased = m[m.event_type=='purchase'].user_id.unique()\n",
        "    \n",
        "purchased_items = []\n",
        "    \n",
        "# Create another list that contains all their purchases \n",
        "for customer in customer_purchased:\n",
        "\n",
        "    #Generate a Pandas series type object containing all the visitor's purchases and put them in the list\n",
        "    purchased_items.append(list(m.loc[(m.user_id == customer) & (m.event_type=='purchase')].product_id.values))   "
      ],
      "execution_count": 0,
      "outputs": []
    },
    {
      "cell_type": "code",
      "metadata": {
        "id": "GRFc3dRk21EI",
        "colab_type": "code",
        "colab": {}
      },
      "source": [
        "customer_viewed = m[m.event_type== 'view'].user_id.unique()\n",
        "#for customer in customer_purchased:\n",
        "customer_viewed\n",
        "    "
      ],
      "execution_count": 0,
      "outputs": []
    },
    {
      "cell_type": "code",
      "metadata": {
        "id": "V3cW8XFoUXB7",
        "colab_type": "code",
        "colab": {}
      },
      "source": [
        ""
      ],
      "execution_count": 0,
      "outputs": []
    },
    {
      "cell_type": "code",
      "metadata": {
        "id": "NgDyP73E8U42",
        "colab_type": "code",
        "colab": {}
      },
      "source": [
        "\n",
        "for x in customer_viewed:\n",
        "  print('\\n\\n\\n\\n userid',x)\n",
        "  viewed_items=[]\n",
        "  set_viewed=[]\n",
        "  viewed_items=m.loc[(m.user_id ==  x) & (m.event_type=='view')].sort_values('event_time',ascending=False).product_id.values\n",
        "  #print('viewed iyeh',viewed_items)\n",
        "  #z=collections.OrderedDict.fromkeys(viewed_items)\n",
        "  set_viewed=viewed_items[0]\n",
        "  #print('z',set_viewed)\n",
        "  print('recent viewed',set_viewed)\n",
        "\n",
        "\n",
        "  #set_viewed = sorted(set(viewed_items))\n",
        " # sorted(set(x), key=x.index)\n",
        "  recommender_list_without_pid=[]\n",
        "  #for y in set_viewed:\n",
        "  item_id=set_viewed\n",
        "  recommender_list = []\n",
        "  setlist=[]\n",
        "  for x in purchased_items:\n",
        "    if item_id in x:\n",
        "      #print('itemid',item_id)\n",
        "            #recommender_list.append(x)\n",
        "      recommender_list += x\n",
        "\n",
        "\n",
        "            \n",
        "            \n",
        "  #print('purchased items with the viewing item',recommender_list)\n",
        "    #Then merge recommender list and remove the item id\n",
        "    #recommender_list=list(recommender_list-item_id)\n",
        "  setlist = list(set(recommender_list) - set([item_id]))\n",
        "  #print('purchased items with the viewing item',setlist)\n",
        "  for y in recommender_list:\n",
        "    if y in setlist:\n",
        "      recommender_list_without_pid.append(y)\n",
        "\n",
        "\n",
        "    \n",
        "  print(\"different users purchased items with the viewing item\",recommender_list_without_pid)\n",
        "    \n",
        "\n",
        "\n",
        "  counterlist = collections.Counter(recommender_list_without_pid)\n",
        "  print('counter of the products that was bought maximum by the purchasers',counterlist)\n",
        "  sorted_words = sorted(counterlist, key= lambda x:-counterlist[x])\n",
        "  print('final recommended products',sorted_words)\n",
        "    \n",
        "    \n"
      ],
      "execution_count": 0,
      "outputs": []
    }
  ]
}
